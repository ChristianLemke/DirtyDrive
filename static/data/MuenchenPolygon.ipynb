{
 "cells": [
  {
   "cell_type": "code",
   "execution_count": 1,
   "metadata": {
    "collapsed": false
   },
   "outputs": [],
   "source": [
    "import sys\n",
    "sys.path.append('C:\\Users\\Chrisi\\Desktop\\Studium\\iv\\Project\\DirtyDrive')\n",
    "sys.path.append('C:\\Users\\Chrisi\\Desktop\\Studium\\iv\\Project\\DirtyDrive\\DirtyDrive')\n",
    "sys.path\n",
    "\n",
    "import django, os\n",
    "os.environ.setdefault('DJANGO_SETTINGS_MODULE', 'DirtyDrive.settings')\n",
    "#settings.configure()\n",
    "django.setup()\n",
    "\n",
    "from django.contrib.gis import gdal\n",
    "gdal.HAS_GDAL\n",
    "\n",
    "import lxml, pykml\n",
    "from django.contrib.gis.geos import Point, Polygon, LinearRing"
   ]
  },
  {
   "cell_type": "code",
   "execution_count": 79,
   "metadata": {
    "collapsed": false
   },
   "outputs": [],
   "source": []
  },
  {
   "cell_type": "code",
   "execution_count": 20,
   "metadata": {
    "collapsed": false
   },
   "outputs": [
    {
     "name": "stdout",
     "output_type": "stream",
     "text": [
      "Altstadt-Lehel\n",
      "Ludwigsvorstadt-Isarvorstadt\n",
      "Maxvorstadt\n",
      "Schwabing-West\n",
      "Au-Haidhausen\n",
      "Sendling\n",
      "Sendling-Westpark\n",
      "Schwanthalerhoehe\n",
      "Neuhausen-Nymphenburg\n",
      "Moosach\n",
      "Milbertshofen-Am\n",
      "Schwabing-Freimann\n",
      "Bogenhausen\n",
      "Berg\n",
      "Trudering-Riem\n",
      "Ramersdorf\n",
      "Obergiesing-Fasangarten\n",
      "Untergiesing-Harlaching\n",
      "Thalkirchen-Obersendling-Forstenried-Fuerstenried-Solln\n",
      "Hadern\n",
      "Pasing-Obermenzing\n",
      "Aubing-Lochhausen-Langwied\n",
      "Allach-Untermenzing\n",
      "Feldmoching-Hasenbergl\n",
      "Laim\n"
     ]
    }
   ],
   "source": [
    "from DirtyDrive import data_loader\n",
    "data_loader = data_loader.data_loader()\n",
    "\n",
    "data_loader.get_city_districts()\n",
    "print(data_loader.city_district)\n",
    "for d in data_loader.city_district:\n",
    "    print(d.name)"
   ]
  },
  {
   "cell_type": "code",
   "execution_count": 16,
   "metadata": {
    "collapsed": false
   },
   "outputs": [],
   "source": [
    "from DirtyDrive import db_saver\n",
    "db_saver = db_saver.db_saver()\n",
    "db_saver.save_city_districts()"
   ]
  },
  {
   "cell_type": "code",
   "execution_count": 7,
   "metadata": {
    "collapsed": false
   },
   "outputs": [
    {
     "data": {
      "text/plain": [
       "<QuerySet []>"
      ]
     },
     "execution_count": 7,
     "metadata": {},
     "output_type": "execute_result"
    }
   ],
   "source": [
    "from DirtyDrive.models import CityDistrict\n",
    "CityDistrict.objects.all()"
   ]
  }
 ],
 "metadata": {
  "kernelspec": {
   "display_name": "Python 2",
   "language": "python",
   "name": "python2"
  },
  "language_info": {
   "codemirror_mode": {
    "name": "ipython",
    "version": 2
   },
   "file_extension": ".py",
   "mimetype": "text/x-python",
   "name": "python",
   "nbconvert_exporter": "python",
   "pygments_lexer": "ipython2",
   "version": "2.7.12"
  }
 },
 "nbformat": 4,
 "nbformat_minor": 0
}
